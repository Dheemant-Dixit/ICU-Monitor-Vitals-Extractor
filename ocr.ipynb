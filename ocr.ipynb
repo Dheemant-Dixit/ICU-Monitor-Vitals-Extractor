{
 "cells": [
  {
   "cell_type": "code",
   "execution_count": null,
   "metadata": {},
   "outputs": [],
   "source": [
    "from easyocr import Reader\n",
    "import matplotlib.pyplot as plt\n",
    "import cv2"
   ]
  },
  {
   "cell_type": "code",
   "execution_count": null,
   "metadata": {},
   "outputs": [],
   "source": [
    "reader = Reader(['en'])\n",
    "image = cv2.imread('../data/sample_1.jpeg')\n",
    "results = reader.readtext('../data/sample_1.jpeg')"
   ]
  },
  {
   "cell_type": "code",
   "execution_count": null,
   "metadata": {},
   "outputs": [],
   "source": [
    "for result in results:\n",
    "    for character in results.characters:\n",
    "        x,y,w,h = character.bbox\n",
    "        cv2.rectangle(image, (x, y), (x + w, y + h), (0, 0, 255), 2)\n",
    "plt.imshow(image)"
   ]
  }
 ],
 "metadata": {
  "kernelspec": {
   "display_name": "base",
   "language": "python",
   "name": "python3"
  },
  "language_info": {
   "name": "python",
   "version": "3.8.16 (default, Jan 17 2023, 16:42:09) \n[Clang 14.0.6 ]"
  },
  "orig_nbformat": 4,
  "vscode": {
   "interpreter": {
    "hash": "022b16dda81504ef81b7e3bb798a6e569a46b7a9000fdc854d50f05eaeb2d706"
   }
  }
 },
 "nbformat": 4,
 "nbformat_minor": 2
}
